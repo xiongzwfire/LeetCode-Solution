{
 "cells": [
  {
   "cell_type": "markdown",
   "id": "8459bb61",
   "metadata": {},
   "source": [
    "# 1. 两数之和"
   ]
  },
  {
   "cell_type": "markdown",
   "id": "6846e9b9",
   "metadata": {},
   "source": [
    "- Standard: 借助dict来存储之前已经遍历过的数字，从而在O(n)时间复杂度内求解"
   ]
  },
  {
   "cell_type": "markdown",
   "id": "9286b370",
   "metadata": {},
   "source": [
    "### 1.类的定义"
   ]
  },
  {
   "cell_type": "code",
   "execution_count": 1,
   "id": "c0c76868",
   "metadata": {},
   "outputs": [],
   "source": [
    "class Solution(object): # 继承object基类\n",
    "    cnt = 6\n",
    "\n",
    "    def func_1(self, p1, p2):\n",
    "        self.p1 = p1\n",
    "        self.p2 = p2\n",
    "    def func_2(self, p1, p2):\n",
    "        print(self.func_1(p1, p2)) # 调用成员函数需要带上self前缀\n",
    "        \n",
    "s = Solution() # 无init函数，定义实例时无需参数\n",
    "\n",
    "class Employee:\n",
    "    empCount = 0\n",
    " \n",
    "    def __init__(self, name, salary):\n",
    "        self.name = name\n",
    "        self.salary = salary\n",
    "        Employee.empCount += 1\n",
    "\n",
    "emp1 = Employee(\"Zara\", 2000) # 有init函数，定义实例时需要参数"
   ]
  },
  {
   "cell_type": "markdown",
   "id": "312d5df6",
   "metadata": {},
   "source": [
    "# 2. 两数相加"
   ]
  },
  {
   "cell_type": "markdown",
   "id": "502f83f1",
   "metadata": {},
   "source": [
    "- Mine: 遍历两个链表，获取到真实的数字，直接相加，然后再转化为链表，返回\n",
    "- Standard: 直接在原链表上进行操作"
   ]
  },
  {
   "cell_type": "markdown",
   "id": "f913c205",
   "metadata": {},
   "source": [
    "### 1. 链表定义"
   ]
  },
  {
   "cell_type": "code",
   "execution_count": 2,
   "id": "3a21413d",
   "metadata": {},
   "outputs": [],
   "source": [
    "class ListNode(object):\n",
    "    def __init__(self, val=0, next=None):\n",
    "        self.val = val\n",
    "        self.next = next"
   ]
  },
  {
   "cell_type": "markdown",
   "id": "4a2af5ed",
   "metadata": {},
   "source": [
    "### 2. 操作链表"
   ]
  },
  {
   "cell_type": "code",
   "execution_count": 3,
   "id": "d19f363b",
   "metadata": {},
   "outputs": [
    {
     "name": "stdout",
     "output_type": "stream",
     "text": [
      "3\n",
      "[3, 2, 1]\n"
     ]
    }
   ],
   "source": [
    "# 生成链表\n",
    "nums_1 = [1, 2, 3]\n",
    "l1 = None\n",
    "for idx, val in enumerate(nums_1):\n",
    "    l1 = ListNode(val, l1)\n",
    "print(l1.val)\n",
    "    \n",
    "# 遍历链表\n",
    "nums_2 = []\n",
    "while l1 != None:\n",
    "    nums_2.append(l1.val)\n",
    "    l1 = l1.next\n",
    "print(nums_2)"
   ]
  },
  {
   "cell_type": "markdown",
   "id": "6cfbe1d7",
   "metadata": {},
   "source": [
    "### 3. map函数"
   ]
  },
  {
   "cell_type": "code",
   "execution_count": 4,
   "id": "353847b5",
   "metadata": {},
   "outputs": [
    {
     "name": "stdout",
     "output_type": "stream",
     "text": [
      "1234\n"
     ]
    }
   ],
   "source": [
    "nums_1 = [1, 2, 3, 4]\n",
    "num_1 = int(\"\".join(map(str, nums_1)))\n",
    "print(num_1)"
   ]
  },
  {
   "cell_type": "markdown",
   "id": "aa981b6a",
   "metadata": {},
   "source": [
    "# 3. 无重复字符的最长子串"
   ]
  },
  {
   "cell_type": "markdown",
   "id": "02003ec9",
   "metadata": {},
   "source": [
    "- Mine: 遍历一次，边遍历边比较，直至找到最长的子串\n",
    "- Standard: 滑动窗口"
   ]
  },
  {
   "cell_type": "markdown",
   "id": "f5b68966",
   "metadata": {},
   "source": [
    "### 1. list函数"
   ]
  },
  {
   "cell_type": "code",
   "execution_count": 2,
   "id": "fc15860d",
   "metadata": {},
   "outputs": [
    {
     "name": "stdout",
     "output_type": "stream",
     "text": [
      "[3, 9, 3, 8, 5, 3, 1]\n",
      "1\n",
      "[1, 3, 9, 3]\n",
      "9\n"
     ]
    }
   ],
   "source": [
    "l = [1, 3, 5, 8, 3, 9, 3]\n",
    "\n",
    "reverse_l = l[::-1] # 将l逆转\n",
    "print(reverse_l)\n",
    "\n",
    "print(l.index(3)) # 查找list中某个元素的位置，只返回匹配到的第一个\n",
    "\n",
    "del l[2:5] # 删除list的某一个span\n",
    "print(l)\n",
    "\n",
    "print(max(l)) # 求list中元素的极值"
   ]
  },
  {
   "cell_type": "markdown",
   "id": "800edbd3",
   "metadata": {},
   "source": [
    "# 4. 寻找两个正序数值的中位数"
   ]
  },
  {
   "cell_type": "markdown",
   "id": "193da63a",
   "metadata": {},
   "source": [
    "- Standard: 实现一个找到Kth值的函数（每次取两个数组的k/2去做比较，根据比较的大小关系，递归调用，求解），然后直接令k=中位数所在的index即可"
   ]
  },
  {
   "cell_type": "markdown",
   "id": "42dc04a5",
   "metadata": {},
   "source": [
    "### 1. 递归函数"
   ]
  },
  {
   "cell_type": "markdown",
   "id": "ea4a3b5a",
   "metadata": {},
   "source": [
    "- 自己调用自己（如果定义为类的成员函数，一定要加self.）\n",
    "- 要有递归终止条件，就是满足某个if判断时，可以return，否则递归一定是死循环的（写完后，自己可以在脑海里推演一遍，看是否能终止递归）"
   ]
  },
  {
   "cell_type": "markdown",
   "id": "00903016",
   "metadata": {},
   "source": [
    "### 2. 奇偶个数的中位数求解"
   ]
  },
  {
   "cell_type": "code",
   "execution_count": 6,
   "id": "347ae31f",
   "metadata": {},
   "outputs": [
    {
     "name": "stdout",
     "output_type": "stream",
     "text": [
      "[3, 3] [3, 4]\n"
     ]
    }
   ],
   "source": [
    "def mid(num):\n",
    "    left = (num + 1) // 2 # python2用/即可\n",
    "    right = (num + 2) // 2\n",
    "    return [left, right]\n",
    "\n",
    "a = 5\n",
    "b = 6\n",
    "print(mid(a), mid(b))"
   ]
  },
  {
   "cell_type": "markdown",
   "id": "872458d2",
   "metadata": {},
   "source": [
    "# 5. 最长回文子串"
   ]
  },
  {
   "cell_type": "markdown",
   "id": "4cf9cfb0",
   "metadata": {},
   "source": [
    "- Mine: 从前到后，一次遍历，边遍历边比较\n",
    "- Standard: DP、马拉车算法（不要求）"
   ]
  },
  {
   "cell_type": "markdown",
   "id": "30c9e041",
   "metadata": {},
   "source": [
    "# 10. 正则表达式"
   ]
  },
  {
   "cell_type": "markdown",
   "id": "15cd91a2",
   "metadata": {},
   "source": [
    "- Mine: 以p为基准，用s的每个字符去对齐p的每个字符，遇到\"*\"需要用更复杂的逻辑去判断，主要是\"*\"可以使得前面的字符消失，但是在处理\".*\"时，发现处理方式过于复杂了，遂放弃\n",
    "- Standard: "
   ]
  },
  {
   "cell_type": "markdown",
   "id": "fa6dfff6",
   "metadata": {},
   "source": [
    "### 1. 特殊符号"
   ]
  },
  {
   "cell_type": "markdown",
   "id": "01d42a09",
   "metadata": {},
   "source": [
    "- \".\"：匹配任何字符，除了\\n\n",
    "- \"*\"：匹配0或多个前置表达式\n",
    "- \"+\"：匹配1或多个前置表达式\n",
    "- \"?\"：匹配0或1个前置表达式\n",
    "- \".*\"：贪婪匹配，可以匹配任意长度的任意字符"
   ]
  },
  {
   "cell_type": "code",
   "execution_count": 7,
   "id": "211f6f0a",
   "metadata": {},
   "outputs": [
    {
     "name": "stdout",
     "output_type": "stream",
     "text": [
      "[]\n",
      "['goood']\n",
      "[]\n",
      "['d morning']\n",
      "[]\n"
     ]
    }
   ],
   "source": [
    "import re\n",
    "\n",
    "s = \"goood morning, sir!\"\n",
    "\n",
    "pattern1 = re.compile(r'go.d')\n",
    "pattern2 = re.compile(r'go*d')\n",
    "pattern3 = re.compile(r'go?d')\n",
    "pattern4 = re.compile(r'd.*g')\n",
    "pattern5 = re.compile(r'c*good.*')\n",
    "result1 = pattern1.findall(s)\n",
    "result2 = pattern2.findall(s)\n",
    "result3 = pattern3.findall(s)\n",
    "result4 = pattern4.findall(s)\n",
    "result5 = pattern5.findall(s)\n",
    " \n",
    "print(result1)\n",
    "print(result2)\n",
    "print(result3)\n",
    "print(result4)\n",
    "print(result5)"
   ]
  },
  {
   "cell_type": "markdown",
   "id": "b1020c27",
   "metadata": {},
   "source": [
    "### 2. 字符串操作"
   ]
  },
  {
   "cell_type": "code",
   "execution_count": 13,
   "id": "584a275a",
   "metadata": {},
   "outputs": [
    {
     "name": "stdout",
     "output_type": "stream",
     "text": [
      "0 g\n",
      "1 o\n",
      "2 o\n",
      "3 d\n",
      "4  \n",
      "5 m\n",
      "6 o\n",
      "7 r\n",
      "8 n\n",
      "9 i\n",
      "10 n\n",
      "11 g\n",
      "12 ,\n",
      "13  \n",
      "14 s\n",
      "15 i\n",
      "16 r\n",
      "17 !\n",
      "d m\n",
      "1\n",
      "2\n",
      "3\n",
      "4\n"
     ]
    }
   ],
   "source": [
    "s = \"good morning, sir!\"\n",
    "for idx, char in enumerate(s): # 字符串也可以像list一样迭代\n",
    "    print(idx, char)\n",
    "    \n",
    "new_s = s[3:6] # 字符串也可以像list一样分片\n",
    "print(new_s)\n",
    "\n",
    "s = \"1234\"\n",
    "b = map(int, s) # 数字字符串直接转成int的list\n",
    "for i in b:\n",
    "    print(i)"
   ]
  },
  {
   "cell_type": "markdown",
   "id": "52f88903",
   "metadata": {},
   "source": [
    "### 3. Python基础符号"
   ]
  },
  {
   "cell_type": "code",
   "execution_count": 9,
   "id": "427d7bac",
   "metadata": {},
   "outputs": [
    {
     "name": "stdout",
     "output_type": "stream",
     "text": [
      "True False\n"
     ]
    }
   ],
   "source": [
    "print(True, False) # 注意开头字母大写"
   ]
  },
  {
   "cell_type": "markdown",
   "id": "a4f9117d",
   "metadata": {},
   "source": [
    "# 11. 盛最多水的容器"
   ]
  },
  {
   "cell_type": "markdown",
   "id": "dbd531f0",
   "metadata": {},
   "source": [
    "- Mine: 双层循环，O(n^2)复杂度，提交显示超时\n",
    "- Standard: 双指针（在求解过程中，不断剪枝，摒弃无效解，将解空间缩小，降低时间复杂度）"
   ]
  },
  {
   "cell_type": "markdown",
   "id": "10637ff4",
   "metadata": {},
   "source": [
    "### 1. range用法"
   ]
  },
  {
   "cell_type": "markdown",
   "id": "c7b02e96",
   "metadata": {},
   "source": [
    "- range(start, stop[, step])\n",
    "    - start: 计数从 start 开始。默认是从 0 开始。例如range（5）等价于range（0， 5）;\n",
    "    - stop: 计数到 stop 结束，但不包括 stop。例如：range（0， 5） 是[0, 1, 2, 3, 4]没有5\n",
    "    - step：步长，默认为1。例如：range（0， 5） 等价于 range(0, 5, 1)"
   ]
  },
  {
   "cell_type": "code",
   "execution_count": 19,
   "id": "a98c1e1b",
   "metadata": {},
   "outputs": [],
   "source": [
    "# 如果stop小于start，那么循环次数为0\n",
    "for i in range(-1):\n",
    "    print(1)"
   ]
  },
  {
   "cell_type": "markdown",
   "id": "01258f48",
   "metadata": {},
   "source": [
    "### 2. 标准输入"
   ]
  },
  {
   "cell_type": "markdown",
   "id": "72c4675b",
   "metadata": {},
   "source": [
    "```\n",
    "# raw_input()是python的内置函数，不需要引入任何的库。raw_input()从标准输入中读入一行，以换行作为输入结束，也就是说raw_input()读入的东西结尾没有换行符’\\n’，并且默认为字符串格式。\n",
    "a = raw_input()\n",
    "print \"hello world\"\n",
    "b = raw_input() # 程序执行时，在raw_input处会暂停，需要用户在标准输入进行输入，按下回车，程序才继续执行\n",
    "print b\n",
    "print a\n",
    "\n",
    "```"
   ]
  },
  {
   "cell_type": "markdown",
   "id": "7fc1e18e",
   "metadata": {},
   "source": [
    "# 15. 三数之和"
   ]
  },
  {
   "cell_type": "markdown",
   "id": "a7513b7b",
   "metadata": {},
   "source": [
    "- Mine: 秉承“缩小解空间”的想法，希望能够尽可能地剪枝，然而发现求解依然十分复杂，遂放弃，事后证明，问题的根本在于我的做法其实并没有做到真正的“缩小解空间”\n",
    "- Standard: 把握题目的两个要点，一个是“无重复”，另一个是“和为定值（0）”；为了达到这两个目的，暴力的解法，首先需要三重循环，生成所有“和为定值”的三元组，然后，需要对以上三元组进行去重；对于上述暴力解法，第二步操作肯定要进行排序，为了降低这一步的复杂度，标准解法对原数组先进行了排序，这就是一种剪枝，对于第一步操作，由于数组已经是有序的了，为了把“排序”操作利用到极致，这里我们结合实际场景，发现可以用双指针，继续达到剪枝目的；基于以上，在不断剪枝的过程中，时间复杂度缩小到了O(n^2)，降低了一个数量级"
   ]
  },
  {
   "cell_type": "markdown",
   "id": "89948bb0",
   "metadata": {},
   "source": [
    "- 双指针，是一种将O(n^2)复杂度降为O(n)复杂度的方式：两重循环变成一重循环，关键就在于，你要能够发现，两重循环是存在冗余的，它有能被一重循环替代的可行性"
   ]
  },
  {
   "cell_type": "markdown",
   "id": "4190d85c",
   "metadata": {},
   "source": [
    "# 22. 括号生成"
   ]
  },
  {
   "cell_type": "markdown",
   "id": "5e19d591",
   "metadata": {},
   "source": [
    "- Mine：本来考虑采用递归的思路，获取到n-1的答案后，再用一对括号去任意位置遍历，简单思索后感觉有点复杂，而且不知道是否正确，遂放弃；看了标准解答后，发现并没有一种特别简洁的解法，而且看不太明白，另外，发现评论中好像也有人用我的这种思路去解答，于是又实现了一遍，发现是对的\n",
    "- Standard：用一对括号去任意位置遍历时，可以让这对括号作为一个整体去遍历，这样可以减少一次循环\n",
    "- 备注：说实话，这道题没太明白为什么是这么求解，纯瞎猜的。。。"
   ]
  },
  {
   "cell_type": "markdown",
   "id": "04cca0c8",
   "metadata": {},
   "source": [
    "### 1. 列表插入"
   ]
  },
  {
   "cell_type": "code",
   "execution_count": 20,
   "id": "22e82b68",
   "metadata": {},
   "outputs": [
    {
     "name": "stdout",
     "output_type": "stream",
     "text": [
      "[100, 2, 5, 7, 9, 3, 100]\n"
     ]
    }
   ],
   "source": [
    "L = [2, 5, 7, 9, 3]\n",
    "L.insert(0, 100) # 在指定位置前面进行插入\n",
    "L.insert(10, 100) # 若index大于有效坐标，则在最尾端插入\n",
    "print(L)"
   ]
  },
  {
   "cell_type": "markdown",
   "id": "893520d4",
   "metadata": {},
   "source": [
    "# 23. 合并K个升序列表"
   ]
  },
  {
   "cell_type": "markdown",
   "id": "8549dd1c",
   "metadata": {},
   "source": [
    "- Mine：采用顺序合并的方式，逐个累计合并，时间复杂度太高了\n",
    "- Standard：采用分治法，两两合并\n",
    "- 备注：一开始看到分治法，动笔算了一下，发现合并次数并没有减少，为什么时间复杂度会降低呢？仔细看了题解，发现分治法虽然没法降低合并次数，但是可以降低每次合并时的难度（待合并的链表的长度较短），从而提升效率"
   ]
  },
  {
   "cell_type": "markdown",
   "id": "a0a30b1b",
   "metadata": {},
   "source": [
    "### 1. 分治法的实现"
   ]
  },
  {
   "cell_type": "code",
   "execution_count": 24,
   "id": "b909d4de",
   "metadata": {},
   "outputs": [],
   "source": [
    "# 伪代码\n",
    "def mergeTwoList(l1, l2):\n",
    "    pass\n",
    "def merge(lists, l, r):\n",
    "    # 边界条件检测\n",
    "    if l == r:\n",
    "        pass\n",
    "    if l + 1 == r:\n",
    "        mergeTwoList(lists[l], lists[r])\n",
    "    return mergeTwoList(merge(lists, l, mid - 1), merge(lists, mid, r))"
   ]
  },
  {
   "cell_type": "markdown",
   "id": "24a6d109",
   "metadata": {},
   "source": [
    "# 31. 下一个排列"
   ]
  },
  {
   "cell_type": "markdown",
   "id": "0c8159cc",
   "metadata": {},
   "source": [
    "- Standard：从右至左找到第一个逆序对，然后在右部分找到第一个比当前大的，交换顺序，然后把右部分升序排列；巧妙的点在于，第一，右部分此时一定是降序排列，所以只要找到第一个比当前大的即可两两交换，第二，交换后的序列仍然是降序排列的，此时转换为升序不需要sort函数，只需要首尾逐个交换即可"
   ]
  },
  {
   "cell_type": "markdown",
   "id": "fc26cff0",
   "metadata": {},
   "source": [
    "# 32. 最长有效括号"
   ]
  },
  {
   "cell_type": "markdown",
   "id": "05827ae2",
   "metadata": {},
   "source": [
    "- Mine：先通过栈的方式，遍历字符串，把所有能够匹配的括号的下标放进数组，然后在数组中寻找最长的连续子串；这种做法，时间复杂度是O(2n)，空间复杂度也是O(2n)\n",
    "- Standard：也是利用栈，但是时间复杂度是O(n)，空间复杂度也是O(n)，用了一个比较巧妙的trick，感觉挺难想到的"
   ]
  },
  {
   "cell_type": "markdown",
   "id": "c8a38694",
   "metadata": {},
   "source": [
    "### 1. 问号表达式"
   ]
  },
  {
   "cell_type": "code",
   "execution_count": 27,
   "id": "ac71c8a8",
   "metadata": {},
   "outputs": [
    {
     "name": "stdout",
     "output_type": "stream",
     "text": [
      "2 2\n"
     ]
    }
   ],
   "source": [
    "a = 1\n",
    "b = 2\n",
    "a = b if a < b else a # Python中的问号表达式可用if else语句实现\n",
    "print(a, b)"
   ]
  },
  {
   "cell_type": "markdown",
   "id": "5529a332",
   "metadata": {},
   "source": [
    "# 33. 搜索旋转排序数组"
   ]
  },
  {
   "cell_type": "markdown",
   "id": "978ba5e5",
   "metadata": {},
   "source": [
    "- Mine：一次遍历，O(n)复杂度\n",
    "- Standard：依然采用二分查找，相比普通的二分查找，这里的难点在于，数组是局部有序的，因此，为了能够用上二分查找，需要新增两个步骤，首先，判断哪一部分是有序的，然后再判断目标元素是否在有序部分的取值范围内"
   ]
  },
  {
   "cell_type": "markdown",
   "id": "ffe26482",
   "metadata": {},
   "source": [
    "# 34. 在排序数组中查找元素的第一个和最后一个位置"
   ]
  },
  {
   "cell_type": "markdown",
   "id": "fc92c94f",
   "metadata": {},
   "source": [
    "- Mine：先用二分法查找到目标元素，然后在目标元素左右进行遍历\n",
    "- Standard：调整二分法的目标，找到第一个大于等于目标的元素、第一个大于目标的元素\n",
    "- 备注：通过33题和34题，可以发现，类似的题目都可以用二分法来解决，关键是要搞清楚，二分法的本质在于查找，因而首先要确定，你查找的目标是什么，这个目标，可以是等于某个值，也可以是大于或小于等其它条件查询"
   ]
  },
  {
   "cell_type": "markdown",
   "id": "73bec591",
   "metadata": {},
   "source": [
    "# 39. 组合总和"
   ]
  },
  {
   "cell_type": "markdown",
   "id": "bd22a523",
   "metadata": {},
   "source": [
    "- Mine：拿到题目想了想，决定用递归去实现，但是题目中还有一个限制条件“无重复”，想了很久也不知道如何做到这一点，无奈只能采用最简单的“sort+uniq”的方式，果不其然，时间复杂度太高了，翻看标准答案，发现这种题目的解法是“回溯”，适合用递归实现（和我的想法不谋而合，虽然我还不知道什么是回溯），关于如何去重，一直没看懂，最后隐约觉得，可能固定下标进行搜索，就能保证无重复吧？按这个思路重新提交了一版，能够打败90+%的用户了，觉得差不多应该是这个答案了"
   ]
  },
  {
   "cell_type": "markdown",
   "id": "435303d8",
   "metadata": {},
   "source": [
    "# 46. 全排列"
   ]
  },
  {
   "cell_type": "markdown",
   "id": "c659daa3",
   "metadata": {},
   "source": [
    "- Mine：递归调用，在已经生成全量组合的nums[1:]基础上，用nums[0]去各个位置尝试插入，生成新的组合\n",
    "- Standard：回溯法，对每个位置，选不同的元素进行组合，另外用标技数组将已经使用过的元素进行标记；还有一个更绝的解法，即在原数组中进行标记，可以节省空间"
   ]
  },
  {
   "cell_type": "markdown",
   "id": "9798aa2e",
   "metadata": {},
   "source": [
    "#### 1. 函数中定义子函数"
   ]
  },
  {
   "cell_type": "code",
   "execution_count": 4,
   "id": "18994cbe",
   "metadata": {},
   "outputs": [
    {
     "name": "stdout",
     "output_type": "stream",
     "text": [
      "[1, 2, 3, 100]\n"
     ]
    }
   ],
   "source": [
    "class Solution(object):\n",
    "    def func_1(self, nums):\n",
    "        a = 100\n",
    "        def func_2():\n",
    "            nums.append(a) # 函数之前定义过的变量可以直接使用（但是建议不要这么用，作用域比较复杂，建议直接传参）\n",
    "        func_2()\n",
    "s = Solution()\n",
    "nums = [1, 2, 3]\n",
    "s.func_1(nums)\n",
    "print(nums)"
   ]
  },
  {
   "cell_type": "markdown",
   "id": "8e7d1279",
   "metadata": {},
   "source": [
    "# 48.旋转图像"
   ]
  },
  {
   "cell_type": "markdown",
   "id": "6e92f49b",
   "metadata": {},
   "source": [
    "- Standard：这是一道纯数学题，必须搞清楚：旋转90度=水平翻转+对角线翻转，搞清楚了这一等价关系，代码写起来就非常清楚了\n",
    "- 备注：复杂的旋转操作转化为简单操作的组合，然后再写代码，就很简单了"
   ]
  },
  {
   "cell_type": "markdown",
   "id": "6de00141",
   "metadata": {},
   "source": [
    "# 49. 字母异位词分组"
   ]
  },
  {
   "cell_type": "markdown",
   "id": "771df30e",
   "metadata": {},
   "source": [
    "- Mine：主要是通过map来分组，关键点在于如何判定两个字符串属于“字母异位词”，我采用的是排序的思路，看讨论中有人用质数来标识每一个英文字母，然后用质数的积来标识每个字符串，那么字母异位词的字符串的积肯定是相等的，这个思路很妙"
   ]
  },
  {
   "cell_type": "markdown",
   "id": "f26cd9ec",
   "metadata": {},
   "source": [
    "### 1. 字符串操作"
   ]
  },
  {
   "cell_type": "code",
   "execution_count": 7,
   "id": "b7b95d10",
   "metadata": {},
   "outputs": [
    {
     "name": "stdout",
     "output_type": "stream",
     "text": [
      "['e', 'h', 'l', 'l', 'o']\n"
     ]
    }
   ],
   "source": [
    "s = \"hello\"\n",
    "l = sorted(s) # 采用sorted函数之后，会自动将字符串转为数组\n",
    "print(l)"
   ]
  },
  {
   "cell_type": "markdown",
   "id": "4e9ae380",
   "metadata": {},
   "source": [
    "# 53. 最大子序和"
   ]
  },
  {
   "cell_type": "markdown",
   "id": "d1b06f75",
   "metadata": {},
   "source": [
    "- Mine：一次遍历，通过两个临时变量来记录结果\n",
    "- Standard：动态规划，没怎么看懂"
   ]
  },
  {
   "cell_type": "markdown",
   "id": "e53c61b4",
   "metadata": {},
   "source": [
    "# 55. 跳跃游戏"
   ]
  },
  {
   "cell_type": "markdown",
   "id": "3fa47b6a",
   "metadata": {},
   "source": [
    "- Mine：从前往后遍历，并且不断更新当前最大元素值，遇到为0的元素则判断当前最大元素是否能跳过0，如果发现不能，则直接返回False\n",
    "- Standard：没仔细看，反正也是O(n)"
   ]
  },
  {
   "cell_type": "markdown",
   "id": "bf723f0b",
   "metadata": {},
   "source": [
    "# 79. 单词搜索"
   ]
  },
  {
   "cell_type": "markdown",
   "id": "c37ff1ae",
   "metadata": {},
   "source": [
    "- Mine：深度优先搜索（回溯法/递归），由于所有的字母只能使用一次，因此需要有一个visited数组记录当前被访问的点"
   ]
  },
  {
   "cell_type": "markdown",
   "id": "4d2462a2",
   "metadata": {},
   "source": [
    "# 105. 从前序与中序遍历序列构造二叉树"
   ]
  },
  {
   "cell_type": "markdown",
   "id": "9e109755",
   "metadata": {},
   "source": [
    "- Mine：递归，先从前序遍历定位根节点，然后通过根节点在中序遍历切分左右子树的节点，随后递归\n",
    "- Standard：递归；迭代（非递归版本）"
   ]
  },
  {
   "cell_type": "markdown",
   "id": "b41480c8",
   "metadata": {},
   "source": [
    "# 114. 二叉树展开为链表"
   ]
  },
  {
   "cell_type": "markdown",
   "id": "8d4f3228",
   "metadata": {},
   "source": [
    "- Mine：想用递归去做，结果发现递归函数的返回值有问题，导致无法完成递归\n",
    "- Standard：将左右子树调换，紧接着将左子树嫁接在右子树的最右节点，这样无需递归，仅需while循环即可求解"
   ]
  },
  {
   "cell_type": "markdown",
   "id": "b21dc58b",
   "metadata": {},
   "source": [
    "# 128. 最长连续序列"
   ]
  },
  {
   "cell_type": "markdown",
   "id": "40b666dd",
   "metadata": {},
   "source": [
    "- Standard：用空间换时间，把所有数字存在哈希表中，然后遍历数组中的每一个数x，判断x+1、x+2...x+y是否在哈希表中，需要剪枝的是，如果遍历到x的时候，发现x-1在哈希表中，那么就跳过它；这里有两个需要注意的点，第一个，遍历数组的时候，直接遍历哈希表，这样可以避免遍历到重复元素，第二个，如果遍历的过程中，最长连续序列的长度已经超过了哈希表的1/2，那么可以break，因为不可能有更长的了"
   ]
  },
  {
   "cell_type": "markdown",
   "id": "0b2f8a15",
   "metadata": {},
   "source": [
    "# 136. 只出现一次的数字"
   ]
  },
  {
   "cell_type": "markdown",
   "id": "3280af35",
   "metadata": {},
   "source": [
    "- Standard：用异或操作，a ^ 0 = a，a ^ a = 0，a ^ b ^ c = b ^ a ^ c = c ^ b ^ a（交换律）"
   ]
  },
  {
   "cell_type": "markdown",
   "id": "52940da3",
   "metadata": {},
   "source": [
    "# 141. 环形链表"
   ]
  },
  {
   "cell_type": "markdown",
   "id": "cff31c34",
   "metadata": {},
   "source": [
    "- Mine：用哈希表存储遍历过的结点，如果发现有结点被第二次遍历到，则说明有环\n",
    "- Standard：用快慢指针，如果快慢指针能相遇，那么有环"
   ]
  },
  {
   "cell_type": "code",
   "execution_count": null,
   "id": "9a250cc1",
   "metadata": {},
   "outputs": [],
   "source": []
  }
 ],
 "metadata": {
  "kernelspec": {
   "display_name": "Python 3 (ipykernel)",
   "language": "python",
   "name": "python3"
  },
  "language_info": {
   "codemirror_mode": {
    "name": "ipython",
    "version": 3
   },
   "file_extension": ".py",
   "mimetype": "text/x-python",
   "name": "python",
   "nbconvert_exporter": "python",
   "pygments_lexer": "ipython3",
   "version": "3.9.7"
  }
 },
 "nbformat": 4,
 "nbformat_minor": 5
}
